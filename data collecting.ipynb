{
 "cells": [
  {
   "cell_type": "markdown",
   "id": "46e82326",
   "metadata": {},
   "source": [
    "# 주식리스트"
   ]
  },
  {
   "cell_type": "markdown",
   "id": "5f01f19f",
   "metadata": {},
   "source": [
    "1. pykrx 활용으로 그날의 거래되는 주식의 티커를 조회할 수 있음"
   ]
  },
  {
   "cell_type": "code",
   "execution_count": 6,
   "id": "3d0dc442",
   "metadata": {},
   "outputs": [
    {
     "name": "stdout",
     "output_type": "stream",
     "text": [
      "952 1701\n"
     ]
    }
   ],
   "source": [
    "import pandas as pd\n",
    "from pykrx import stock\n",
    "\n",
    "tickers_kospi = stock.get_market_ticker_list(\"20231203\",market= 'KOSPI')\n",
    "tickers_kosdaq = stock.get_market_ticker_list(\"20231203\",market= 'KOSDAQ')\n",
    "\n",
    "print(len(tickers_kospi),len(tickers_kosdaq))"
   ]
  },
  {
   "cell_type": "markdown",
   "id": "69517d4d",
   "metadata": {},
   "source": [
    "2. KRX에서 바로 다운로드를 받는 방법도 있음\n",
    "- 주가 업데이트를 위해서는 이 방법도 나쁘지 않아보임\n",
    "- 하지만 pykrx로 데이터를 받을 수 있는 시점에서 굳이 싶은 선택지"
   ]
  },
  {
   "cell_type": "code",
   "execution_count": 31,
   "id": "fad424ad",
   "metadata": {},
   "outputs": [],
   "source": [
    "from io import BytesIO\n",
    "\n",
    "def crawling_krx_data(tradingdate):\n",
    "    # otp 요청 \n",
    "    gen_otp_url = 'http://data.krx.co.kr/comm/fileDn/GenerateOTP/generate.cmd'\n",
    "    otp_data = {\n",
    "        'locale': 'ko_KR',\n",
    "        'mktId': 'ALL',\n",
    "        'trdDd': tradingdate.replace('-',''),\n",
    "        'share': '1',\n",
    "        'money': '1',\n",
    "        'csvxls_isNo': 'false',\n",
    "        'name': 'fileDown',\n",
    "        'url': 'dbms/MDC/STAT/standard/MDCSTAT01501'\n",
    "    }\n",
    "    headers = {\n",
    "        'Referer': 'http://data.krx.co.kr/contents/MDC/MDI/mdiLoader/index.cmd?menuId=MDC0201020101',\n",
    "        'Upgrade-Insecure-Requests': '1',\n",
    "        'User-Agent': 'Mozilla/5.0 (Macintosh; Intel Mac OS X 10_15_7) AppleWebKit/537.36 (KHTML, like Gecko) Chrome/116.0.0.0 Safari/537.36'\n",
    "    }\n",
    "    otp = requests.get(gen_otp_url, params = otp_data, headers=headers)\n",
    "    \n",
    "    # 요청받은 otp로 데이터 데이터 요청\n",
    "    download_url = 'http://data.krx.co.kr/comm/fileDn/download_csv/download.cmd'\n",
    "    download_data = {'code': otp.text}\n",
    "    r = requests.get(download_url, params = download_data, headers=headers)\n",
    "\n",
    "    df = pd.read_csv(BytesIO(r.content),encoding='euc-kr')\n",
    "    df['date'] = tradingdate\n",
    "    df.set_index('date',inplace=True)    \n",
    "    return df"
   ]
  },
  {
   "cell_type": "code",
   "execution_count": 32,
   "id": "94d325de",
   "metadata": {},
   "outputs": [
    {
     "data": {
      "text/html": [
       "<div>\n",
       "<style scoped>\n",
       "    .dataframe tbody tr th:only-of-type {\n",
       "        vertical-align: middle;\n",
       "    }\n",
       "\n",
       "    .dataframe tbody tr th {\n",
       "        vertical-align: top;\n",
       "    }\n",
       "\n",
       "    .dataframe thead th {\n",
       "        text-align: right;\n",
       "    }\n",
       "</style>\n",
       "<table border=\"1\" class=\"dataframe\">\n",
       "  <thead>\n",
       "    <tr style=\"text-align: right;\">\n",
       "      <th></th>\n",
       "      <th>종목코드</th>\n",
       "      <th>종목명</th>\n",
       "      <th>시장구분</th>\n",
       "      <th>소속부</th>\n",
       "      <th>종가</th>\n",
       "      <th>대비</th>\n",
       "      <th>등락률</th>\n",
       "      <th>시가</th>\n",
       "      <th>고가</th>\n",
       "      <th>저가</th>\n",
       "      <th>거래량</th>\n",
       "      <th>거래대금</th>\n",
       "      <th>시가총액</th>\n",
       "      <th>상장주식수</th>\n",
       "    </tr>\n",
       "    <tr>\n",
       "      <th>date</th>\n",
       "      <th></th>\n",
       "      <th></th>\n",
       "      <th></th>\n",
       "      <th></th>\n",
       "      <th></th>\n",
       "      <th></th>\n",
       "      <th></th>\n",
       "      <th></th>\n",
       "      <th></th>\n",
       "      <th></th>\n",
       "      <th></th>\n",
       "      <th></th>\n",
       "      <th></th>\n",
       "      <th></th>\n",
       "    </tr>\n",
       "  </thead>\n",
       "  <tbody>\n",
       "    <tr>\n",
       "      <th>2023-12-01</th>\n",
       "      <td>060310</td>\n",
       "      <td>3S</td>\n",
       "      <td>KOSDAQ</td>\n",
       "      <td>중견기업부</td>\n",
       "      <td>2295</td>\n",
       "      <td>15</td>\n",
       "      <td>0.66</td>\n",
       "      <td>2270</td>\n",
       "      <td>2310</td>\n",
       "      <td>2260</td>\n",
       "      <td>120193</td>\n",
       "      <td>274145660</td>\n",
       "      <td>111391593390</td>\n",
       "      <td>48536642</td>\n",
       "    </tr>\n",
       "    <tr>\n",
       "      <th>2023-12-01</th>\n",
       "      <td>095570</td>\n",
       "      <td>AJ네트웍스</td>\n",
       "      <td>KOSPI</td>\n",
       "      <td>NaN</td>\n",
       "      <td>4505</td>\n",
       "      <td>185</td>\n",
       "      <td>4.28</td>\n",
       "      <td>4350</td>\n",
       "      <td>4530</td>\n",
       "      <td>4305</td>\n",
       "      <td>370243</td>\n",
       "      <td>1654213940</td>\n",
       "      <td>203863679295</td>\n",
       "      <td>45252759</td>\n",
       "    </tr>\n",
       "    <tr>\n",
       "      <th>2023-12-01</th>\n",
       "      <td>006840</td>\n",
       "      <td>AK홀딩스</td>\n",
       "      <td>KOSPI</td>\n",
       "      <td>NaN</td>\n",
       "      <td>17740</td>\n",
       "      <td>-60</td>\n",
       "      <td>-0.34</td>\n",
       "      <td>17800</td>\n",
       "      <td>17970</td>\n",
       "      <td>17400</td>\n",
       "      <td>4225</td>\n",
       "      <td>74447290</td>\n",
       "      <td>235011732140</td>\n",
       "      <td>13247561</td>\n",
       "    </tr>\n",
       "    <tr>\n",
       "      <th>2023-12-01</th>\n",
       "      <td>054620</td>\n",
       "      <td>APS</td>\n",
       "      <td>KOSDAQ</td>\n",
       "      <td>중견기업부</td>\n",
       "      <td>6090</td>\n",
       "      <td>-330</td>\n",
       "      <td>-5.14</td>\n",
       "      <td>6540</td>\n",
       "      <td>6540</td>\n",
       "      <td>6030</td>\n",
       "      <td>105187</td>\n",
       "      <td>647701980</td>\n",
       "      <td>124200805890</td>\n",
       "      <td>20394221</td>\n",
       "    </tr>\n",
       "    <tr>\n",
       "      <th>2023-12-01</th>\n",
       "      <td>265520</td>\n",
       "      <td>AP시스템</td>\n",
       "      <td>KOSDAQ</td>\n",
       "      <td>우량기업부</td>\n",
       "      <td>21150</td>\n",
       "      <td>0</td>\n",
       "      <td>0.00</td>\n",
       "      <td>21300</td>\n",
       "      <td>21300</td>\n",
       "      <td>20800</td>\n",
       "      <td>65927</td>\n",
       "      <td>1391552000</td>\n",
       "      <td>323202054150</td>\n",
       "      <td>15281421</td>\n",
       "    </tr>\n",
       "    <tr>\n",
       "      <th>...</th>\n",
       "      <td>...</td>\n",
       "      <td>...</td>\n",
       "      <td>...</td>\n",
       "      <td>...</td>\n",
       "      <td>...</td>\n",
       "      <td>...</td>\n",
       "      <td>...</td>\n",
       "      <td>...</td>\n",
       "      <td>...</td>\n",
       "      <td>...</td>\n",
       "      <td>...</td>\n",
       "      <td>...</td>\n",
       "      <td>...</td>\n",
       "      <td>...</td>\n",
       "    </tr>\n",
       "    <tr>\n",
       "      <th>2023-12-01</th>\n",
       "      <td>000540</td>\n",
       "      <td>흥국화재</td>\n",
       "      <td>KOSPI</td>\n",
       "      <td>NaN</td>\n",
       "      <td>3040</td>\n",
       "      <td>55</td>\n",
       "      <td>1.84</td>\n",
       "      <td>3005</td>\n",
       "      <td>3180</td>\n",
       "      <td>2975</td>\n",
       "      <td>261882</td>\n",
       "      <td>803593015</td>\n",
       "      <td>195297640800</td>\n",
       "      <td>64242645</td>\n",
       "    </tr>\n",
       "    <tr>\n",
       "      <th>2023-12-01</th>\n",
       "      <td>000545</td>\n",
       "      <td>흥국화재우</td>\n",
       "      <td>KOSPI</td>\n",
       "      <td>NaN</td>\n",
       "      <td>8900</td>\n",
       "      <td>2050</td>\n",
       "      <td>29.93</td>\n",
       "      <td>6560</td>\n",
       "      <td>8900</td>\n",
       "      <td>6560</td>\n",
       "      <td>220544</td>\n",
       "      <td>1872440520</td>\n",
       "      <td>6835200000</td>\n",
       "      <td>768000</td>\n",
       "    </tr>\n",
       "    <tr>\n",
       "      <th>2023-12-01</th>\n",
       "      <td>003280</td>\n",
       "      <td>흥아해운</td>\n",
       "      <td>KOSPI</td>\n",
       "      <td>NaN</td>\n",
       "      <td>2260</td>\n",
       "      <td>50</td>\n",
       "      <td>2.26</td>\n",
       "      <td>2230</td>\n",
       "      <td>2425</td>\n",
       "      <td>2190</td>\n",
       "      <td>22826554</td>\n",
       "      <td>52954505340</td>\n",
       "      <td>543360271740</td>\n",
       "      <td>240424899</td>\n",
       "    </tr>\n",
       "    <tr>\n",
       "      <th>2023-12-01</th>\n",
       "      <td>037440</td>\n",
       "      <td>희림</td>\n",
       "      <td>KOSDAQ</td>\n",
       "      <td>우량기업부</td>\n",
       "      <td>8210</td>\n",
       "      <td>20</td>\n",
       "      <td>0.24</td>\n",
       "      <td>8150</td>\n",
       "      <td>8500</td>\n",
       "      <td>8150</td>\n",
       "      <td>803933</td>\n",
       "      <td>6699119870</td>\n",
       "      <td>114303519750</td>\n",
       "      <td>13922475</td>\n",
       "    </tr>\n",
       "    <tr>\n",
       "      <th>2023-12-01</th>\n",
       "      <td>238490</td>\n",
       "      <td>힘스</td>\n",
       "      <td>KOSDAQ</td>\n",
       "      <td>벤처기업부</td>\n",
       "      <td>6410</td>\n",
       "      <td>80</td>\n",
       "      <td>1.26</td>\n",
       "      <td>6330</td>\n",
       "      <td>6490</td>\n",
       "      <td>6290</td>\n",
       "      <td>31437</td>\n",
       "      <td>201478280</td>\n",
       "      <td>72511432760</td>\n",
       "      <td>11312236</td>\n",
       "    </tr>\n",
       "  </tbody>\n",
       "</table>\n",
       "<p>2782 rows × 14 columns</p>\n",
       "</div>"
      ],
      "text/plain": [
       "              종목코드     종목명    시장구분    소속부     종가    대비    등락률     시가     고가  \\\n",
       "date                                                                          \n",
       "2023-12-01  060310      3S  KOSDAQ  중견기업부   2295    15   0.66   2270   2310   \n",
       "2023-12-01  095570  AJ네트웍스   KOSPI    NaN   4505   185   4.28   4350   4530   \n",
       "2023-12-01  006840   AK홀딩스   KOSPI    NaN  17740   -60  -0.34  17800  17970   \n",
       "2023-12-01  054620     APS  KOSDAQ  중견기업부   6090  -330  -5.14   6540   6540   \n",
       "2023-12-01  265520   AP시스템  KOSDAQ  우량기업부  21150     0   0.00  21300  21300   \n",
       "...            ...     ...     ...    ...    ...   ...    ...    ...    ...   \n",
       "2023-12-01  000540    흥국화재   KOSPI    NaN   3040    55   1.84   3005   3180   \n",
       "2023-12-01  000545   흥국화재우   KOSPI    NaN   8900  2050  29.93   6560   8900   \n",
       "2023-12-01  003280    흥아해운   KOSPI    NaN   2260    50   2.26   2230   2425   \n",
       "2023-12-01  037440      희림  KOSDAQ  우량기업부   8210    20   0.24   8150   8500   \n",
       "2023-12-01  238490      힘스  KOSDAQ  벤처기업부   6410    80   1.26   6330   6490   \n",
       "\n",
       "               저가       거래량         거래대금          시가총액      상장주식수  \n",
       "date                                                               \n",
       "2023-12-01   2260    120193    274145660  111391593390   48536642  \n",
       "2023-12-01   4305    370243   1654213940  203863679295   45252759  \n",
       "2023-12-01  17400      4225     74447290  235011732140   13247561  \n",
       "2023-12-01   6030    105187    647701980  124200805890   20394221  \n",
       "2023-12-01  20800     65927   1391552000  323202054150   15281421  \n",
       "...           ...       ...          ...           ...        ...  \n",
       "2023-12-01   2975    261882    803593015  195297640800   64242645  \n",
       "2023-12-01   6560    220544   1872440520    6835200000     768000  \n",
       "2023-12-01   2190  22826554  52954505340  543360271740  240424899  \n",
       "2023-12-01   8150    803933   6699119870  114303519750   13922475  \n",
       "2023-12-01   6290     31437    201478280   72511432760   11312236  \n",
       "\n",
       "[2782 rows x 14 columns]"
      ]
     },
     "execution_count": 32,
     "metadata": {},
     "output_type": "execute_result"
    }
   ],
   "source": [
    "crawling_krx_data('2023-12-01')"
   ]
  },
  {
   "cell_type": "markdown",
   "id": "7c2c7469",
   "metadata": {},
   "source": [
    "# 티커 베이스로 데이터 스크래핑\n",
    "- historical data 업데이트 중 100 페이지 이후부터는 get request 가 불가능\n",
    "- 네트워크 확인결과 referer 부분에서 유의한 차이를 보였고 이를 header에서 설정해주니 가능해짐"
   ]
  },
  {
   "cell_type": "code",
   "execution_count": 274,
   "id": "647fa971",
   "metadata": {},
   "outputs": [],
   "source": [
    "import requests\n",
    "from bs4 import BeautifulSoup\n",
    "\n",
    "# URL of the Naver Finance page you want to scrape\n",
    "code = '033230'\n",
    "url = f'https://finance.naver.com/item/board.naver?code={code}&page={101}'\n",
    "headers = {\n",
    "    'User-Agent': 'Mozilla/5.0 (Macintosh; Intel Mac OS X 10_15_7) AppleWebKit/605.1.15 (KHTML, like Gecko) Version/17.0 Safari/605.1.15',\n",
    "    'Referer':'https://finance.naver.com/item/board.naver?code=001515&page=101'\n",
    "}"
   ]
  },
  {
   "cell_type": "code",
   "execution_count": 275,
   "id": "6752d53a",
   "metadata": {},
   "outputs": [],
   "source": [
    "response = requests.get(url,headers=headers)\n",
    "soup = BeautifulSoup(response.text, 'lxml')\n",
    "tbody = soup.find('tbody')"
   ]
  },
  {
   "cell_type": "code",
   "execution_count": 276,
   "id": "d7f10acb",
   "metadata": {},
   "outputs": [
    {
     "data": {
      "text/plain": [
       "['2023.08.28 09:47',\n",
       " '2023.08.28 09:13',\n",
       " '2023.08.25 22:44',\n",
       " '2023.08.26 15:31',\n",
       " '2023.08.26 17:59',\n",
       " '2023.08.25 17:00',\n",
       " '2023.08.26 00:41',\n",
       " '2023.08.25 11:00',\n",
       " '2023.08.25 10:12',\n",
       " '2023.08.28 09:00',\n",
       " '2023.08.25 09:57',\n",
       " '2023.08.25 09:23',\n",
       " '2023.08.25 08:08',\n",
       " '2023.08.25 08:50',\n",
       " '2023.08.24 17:24',\n",
       " '2023.08.24 17:48',\n",
       " '2023.08.24 17:08',\n",
       " '2023.08.24 15:46',\n",
       " '2023.08.24 15:44',\n",
       " '2023.08.24 15:39']"
      ]
     },
     "execution_count": 276,
     "metadata": {},
     "output_type": "execute_result"
    }
   ],
   "source": [
    "dates_hits = tbody.find_all('span',attrs = {'class':\"tah p10 gray03\"})\n",
    "dates = [dates_hits[x].text.strip() for x in list(range(0,40,2))]\n",
    "dates\n",
    "# pd.to_datetime(pd.DataFrame(dates)[0], format='%Y-%m-%d %H:%M')"
   ]
  },
  {
   "cell_type": "code",
   "execution_count": 278,
   "id": "da48f838",
   "metadata": {
    "scrolled": true
   },
   "outputs": [
    {
     "data": {
      "text/plain": [
       "['344',\n",
       " '176',\n",
       " '1346',\n",
       " '689',\n",
       " '603',\n",
       " '1187',\n",
       " '664',\n",
       " '1176',\n",
       " '1783',\n",
       " '29',\n",
       " '871',\n",
       " '288',\n",
       " '705',\n",
       " '206',\n",
       " '747',\n",
       " '334',\n",
       " '750',\n",
       " '750',\n",
       " '428',\n",
       " '391']"
      ]
     },
     "execution_count": 278,
     "metadata": {},
     "output_type": "execute_result"
    }
   ],
   "source": [
    "views = [dates_hits[x].text.strip() for x in list(range(1,40,2))]\n",
    "views"
   ]
  },
  {
   "cell_type": "code",
   "execution_count": 279,
   "id": "0330d5f9",
   "metadata": {},
   "outputs": [
    {
     "data": {
      "text/plain": [
       "['https://finance.naver.com/item/board_read.naver?code=033230&nid=259089485&st=&sw=&page=101',\n",
       " 'https://finance.naver.com/item/board_read.naver?code=033230&nid=259081212&st=&sw=&page=101',\n",
       " 'https://finance.naver.com/item/board_read.naver?code=033230&nid=259015762&st=&sw=&page=101',\n",
       " 'https://finance.naver.com/item/board_read.naver?code=033230&nid=259033064&st=&sw=&page=101',\n",
       " 'https://finance.naver.com/item/board_read.naver?code=033230&nid=259035739&st=&sw=&page=101',\n",
       " 'https://finance.naver.com/item/board_read.naver?code=033230&nid=259000806&st=&sw=&page=101',\n",
       " 'https://finance.naver.com/item/board_read.naver?code=033230&nid=259018960&st=&sw=&page=101',\n",
       " 'https://finance.naver.com/item/board_read.naver?code=033230&nid=258931353&st=&sw=&page=101',\n",
       " 'https://finance.naver.com/item/board_read.naver?code=033230&nid=258919141&st=&sw=&page=101',\n",
       " 'https://finance.naver.com/item/board_read.naver?code=033230&nid=259078305&st=&sw=&page=101',\n",
       " 'https://finance.naver.com/item/board_read.naver?code=033230&nid=258914943&st=&sw=&page=101',\n",
       " 'https://finance.naver.com/item/board_read.naver?code=033230&nid=258904467&st=&sw=&page=101',\n",
       " 'https://finance.naver.com/item/board_read.naver?code=033230&nid=258891392&st=&sw=&page=101',\n",
       " 'https://finance.naver.com/item/board_read.naver?code=033230&nid=258895805&st=&sw=&page=101',\n",
       " 'https://finance.naver.com/item/board_read.naver?code=033230&nid=258860956&st=&sw=&page=101',\n",
       " 'https://finance.naver.com/item/board_read.naver?code=033230&nid=258863409&st=&sw=&page=101',\n",
       " 'https://finance.naver.com/item/board_read.naver?code=033230&nid=258858905&st=&sw=&page=101',\n",
       " 'https://finance.naver.com/item/board_read.naver?code=033230&nid=258846863&st=&sw=&page=101',\n",
       " 'https://finance.naver.com/item/board_read.naver?code=033230&nid=258846592&st=&sw=&page=101',\n",
       " 'https://finance.naver.com/item/board_read.naver?code=033230&nid=258845305&st=&sw=&page=101']"
      ]
     },
     "execution_count": 279,
     "metadata": {},
     "output_type": "execute_result"
    }
   ],
   "source": [
    "link_titles = tbody.find_all('a',href = True)\n",
    "links = [\"https://finance.naver.com\"+link['href'] for link in link_titles]\n",
    "links"
   ]
  },
  {
   "cell_type": "code",
   "execution_count": 280,
   "id": "e1f384b8",
   "metadata": {},
   "outputs": [
    {
     "data": {
      "text/plain": [
       "['쫌가자 인성아',\n",
       " '오늘 급등예정',\n",
       " '그냥',\n",
       " '그냥',\n",
       " '그냥',\n",
       " '원격진료 선진국이면 무조건이다',\n",
       " '[삭제된 게시물의 답글]2900원 애개리 쩌~~억!! ㅋㅋ',\n",
       " '부채비율 212% 영업적자~ 왜 이렇게 돈을 못버는거야?',\n",
       " '속보))인성정보 초대형 계약공시',\n",
       " '속보))인성정보 초대형 계약공시',\n",
       " '조졌노ㅋㅋ',\n",
       " '시간은 우리편 ㅎㅎㅎㅎㅎㅎ',\n",
       " '비대면 진료 물건너 갔음.',\n",
       " '비대면 진료 물건너 갔음.',\n",
       " '영원한 관심밖으로.',\n",
       " '영원한 관심밖으로.',\n",
       " '시외',\n",
       " '죄악 섹터',\n",
       " '인성',\n",
       " '오늘은']"
      ]
     },
     "execution_count": 280,
     "metadata": {},
     "output_type": "execute_result"
    }
   ],
   "source": [
    "titles = [title['title'] for title in link_titles]\n",
    "titles"
   ]
  },
  {
   "cell_type": "code",
   "execution_count": 281,
   "id": "2086ede1",
   "metadata": {},
   "outputs": [],
   "source": [
    "agree_disagree = tbody.find_all('strong')\n",
    "agree = [agree_disagree[x].text.strip() for x in list(range(0,40,2))]\n",
    "disagree = [agree_disagree[x].text.strip() for x in list(range(1,40,2))]"
   ]
  },
  {
   "cell_type": "code",
   "execution_count": 282,
   "id": "77d8c54d",
   "metadata": {},
   "outputs": [
    {
     "data": {
      "text/plain": [
       "['2',\n",
       " '0',\n",
       " '8',\n",
       " '5',\n",
       " '3',\n",
       " '5',\n",
       " '4',\n",
       " '3',\n",
       " '12',\n",
       " '0',\n",
       " '7',\n",
       " '0',\n",
       " '7',\n",
       " '2',\n",
       " '5',\n",
       " '3',\n",
       " '2',\n",
       " '2',\n",
       " '1',\n",
       " '3']"
      ]
     },
     "execution_count": 282,
     "metadata": {},
     "output_type": "execute_result"
    }
   ],
   "source": [
    "agree"
   ]
  },
  {
   "cell_type": "code",
   "execution_count": 283,
   "id": "b93fdbe0",
   "metadata": {},
   "outputs": [
    {
     "data": {
      "text/plain": [
       "['1',\n",
       " '1',\n",
       " '5',\n",
       " '3',\n",
       " '2',\n",
       " '1',\n",
       " '0',\n",
       " '3',\n",
       " '6',\n",
       " '0',\n",
       " '0',\n",
       " '1',\n",
       " '1',\n",
       " '3',\n",
       " '2',\n",
       " '1',\n",
       " '2',\n",
       " '2',\n",
       " '0',\n",
       " '2']"
      ]
     },
     "execution_count": 283,
     "metadata": {},
     "output_type": "execute_result"
    }
   ],
   "source": [
    "disagree"
   ]
  },
  {
   "cell_type": "code",
   "execution_count": 289,
   "id": "9979b07e",
   "metadata": {},
   "outputs": [],
   "source": [
    "headers = ['date','title','id','view','like','dislike']"
   ]
  },
  {
   "cell_type": "code",
   "execution_count": 290,
   "id": "56d4818b",
   "metadata": {},
   "outputs": [],
   "source": [
    "data = [[cell.text.strip() for cell in row.find_all(['td', 'th'])] for row in tbody.find_all('tr')[1:]]  # Skip the header row"
   ]
  },
  {
   "cell_type": "code",
   "execution_count": 291,
   "id": "764a9938",
   "metadata": {},
   "outputs": [],
   "source": [
    "df = pd.DataFrame(data, columns=headers)\n",
    "df = df.dropna()"
   ]
  },
  {
   "cell_type": "code",
   "execution_count": 299,
   "id": "c7b414a5",
   "metadata": {},
   "outputs": [],
   "source": [
    "date = pd.to_datetime(df.date)"
   ]
  },
  {
   "cell_type": "code",
   "execution_count": 301,
   "id": "80ae6c1a",
   "metadata": {},
   "outputs": [
    {
     "data": {
      "text/plain": [
       "1    2023-08-28 09:47:00\n",
       "2    2023-08-28 09:13:00\n",
       "3    2023-08-25 22:44:00\n",
       "4    2023-08-26 15:31:00\n",
       "5    2023-08-26 17:59:00\n",
       "7    2023-08-25 17:00:00\n",
       "8    2023-08-26 00:41:00\n",
       "9    2023-08-25 11:00:00\n",
       "10   2023-08-25 10:12:00\n",
       "11   2023-08-28 09:00:00\n",
       "13   2023-08-25 09:57:00\n",
       "14   2023-08-25 09:23:00\n",
       "15   2023-08-25 08:08:00\n",
       "16   2023-08-25 08:50:00\n",
       "17   2023-08-24 17:24:00\n",
       "19   2023-08-24 17:48:00\n",
       "20   2023-08-24 17:08:00\n",
       "21   2023-08-24 15:46:00\n",
       "22   2023-08-24 15:44:00\n",
       "23   2023-08-24 15:39:00\n",
       "Name: date, dtype: datetime64[ns]"
      ]
     },
     "execution_count": 301,
     "metadata": {},
     "output_type": "execute_result"
    }
   ],
   "source": [
    "date"
   ]
  },
  {
   "cell_type": "code",
   "execution_count": null,
   "id": "854fe94c",
   "metadata": {},
   "outputs": [],
   "source": []
  }
 ],
 "metadata": {
  "kernelspec": {
   "display_name": "Python 3 (ipykernel)",
   "language": "python",
   "name": "python3"
  },
  "language_info": {
   "codemirror_mode": {
    "name": "ipython",
    "version": 3
   },
   "file_extension": ".py",
   "mimetype": "text/x-python",
   "name": "python",
   "nbconvert_exporter": "python",
   "pygments_lexer": "ipython3",
   "version": "3.9.7"
  },
  "toc": {
   "base_numbering": 1,
   "nav_menu": {},
   "number_sections": true,
   "sideBar": true,
   "skip_h1_title": false,
   "title_cell": "Table of Contents",
   "title_sidebar": "Contents",
   "toc_cell": false,
   "toc_position": {},
   "toc_section_display": true,
   "toc_window_display": false
  },
  "varInspector": {
   "cols": {
    "lenName": 16,
    "lenType": 16,
    "lenVar": 40
   },
   "kernels_config": {
    "python": {
     "delete_cmd_postfix": "",
     "delete_cmd_prefix": "del ",
     "library": "var_list.py",
     "varRefreshCmd": "print(var_dic_list())"
    },
    "r": {
     "delete_cmd_postfix": ") ",
     "delete_cmd_prefix": "rm(",
     "library": "var_list.r",
     "varRefreshCmd": "cat(var_dic_list()) "
    }
   },
   "types_to_exclude": [
    "module",
    "function",
    "builtin_function_or_method",
    "instance",
    "_Feature"
   ],
   "window_display": false
  }
 },
 "nbformat": 4,
 "nbformat_minor": 5
}
